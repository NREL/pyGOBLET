{
 "cells": [
  {
   "cell_type": "markdown",
   "id": "d906244c",
   "metadata": {},
   "source": [
    "<h1><center> Tutorial 2: Running Experiments </center></h1>\n",
    "\n",
    "---\n",
    "\n",
    "This tutorial teaches you how to use pyGOLD's `run_solvers()` function to run optimization experiments. You'll learn about about experiment options and the available benchmark problems."
   ]
  },
  {
   "cell_type": "code",
   "execution_count": 1,
   "id": "2f3db03f",
   "metadata": {},
   "outputs": [],
   "source": [
    "import pygold\n",
    "from pygold.optimizer import BaseOptimizer, OptimizationResult\n",
    "from scipy.optimize import dual_annealing, basinhopping"
   ]
  },
  {
   "cell_type": "markdown",
   "id": "6da1b60f",
   "metadata": {},
   "source": [
    "## Part 1: The run_solvers() Function\n",
    "---\n",
    "\n",
    "The `run_solvers()` function is the core of pyGOLD's benchmarking functionality. It runs optimization algorithms on benchmark problems and records performance data.\n",
    "\n",
    "### Function Signature:\n",
    "```python\n",
    "run_solvers(solvers, problems, test_dimensions=[2, 4, 5, 8, 10, 12], n_iters=5, output_folder=None, track_energy=True, verbose=False)\n",
    "```\n",
    "\n",
    "### Parameter Breakdown:\n",
    "- solvers (Required): List of algorithms to solve. Each algorithm must be derived from the `BaseOptimizer` class.\n",
    "- problems (Required): List of benchmark algorithm classes to test the algorithms on.\n",
    "- test_dimensions (Optional, Default 2, 4, 5, 8, 10, 12): Specifies which dimensions to test for variable-dimension (nD) problems.\n",
    "  - nD benchmark problems will be tested in each dimension.\n",
    "  - Ignored for fixed-dimension problems.\n",
    "- n_iters (Optional, Default 5):  Number of independent runs per algorithm per problem.\n",
    "  - If an algorithm is deterministic and requires no initial points, then it is only run once. (Repeated runs would be identical.)\n",
    "  - All other algorithms are run n_iters times.\n",
    "- output_folder (Optional, default \"output_data\"): Where to save performance data. Creates:\n",
    "  -  `.info` files with problem and algorithm metadata\n",
    "  -  `.dat`, `.tdat`, `.mdat` files with aw function evaluation data\n",
    "  -  `.csv` file with power consumption measurements (if available)\n",
    "- track_energy (Optional, default True): Whether to track energy consumption data\n",
    "  - Requires the CodeCarbon library\n",
    "  - If the CodeCarbon library is not installed, energy consumption data will not be recorded but benchmarking will be unaffected.\n",
    "- verbose (Optional, default False): Whether to print progress information\n"
   ]
  },
  {
   "cell_type": "markdown",
   "id": "d524fa4b",
   "metadata": {},
   "source": [
    "## Part 2: Available Problems\n",
    "---\n",
    "\n",
    "Now let's explore the types of problems available in pyGOLD.\n",
    "\n",
    "### Standard Problems:\n",
    "\n",
    "pyGOLD offers many classical test functions for benchmarking, including every optimization problem from the Virtual Library of Simulation Experiments. These problems are organized by tags and can be accessed using the `get_standard_problems()` function. Supported tags include: \n",
    "- `Unconstrained` / `Constrained`: Whether the function has constraints\n",
    "- `Multimodal` / `Unimodal`: Number of local/global minima\n",
    "- `Continuous` / `Discontinuous`: Whether the function is continuous - functions with sharp ridges or drops are classified as discontinuous\n",
    "- `Differentiable` / `Non_differentiable`: Whether the function is differentiable\n",
    "- `Separable` / `Non_separable`: Whether the function can be separated into independent subproblems\n",
    "- `1D`, `2D`, `nD`: Dimensionality of the function\n",
    "\n",
    "You can use these tags individually or combine them. For example:"
   ]
  },
  {
   "cell_type": "code",
   "execution_count": 2,
   "id": "7dd1d53d",
   "metadata": {},
   "outputs": [
    {
     "name": "stdout",
     "output_type": "stream",
     "text": [
      "Found 23 2D, unconstrained problems:\n",
      " 1. Dejong5             \n",
      " 2. DropWave            \n",
      " 3. Levy13              \n",
      " 4. Branin              \n",
      " 5. Bohachevsky2        \n",
      " 6. Camel6              \n",
      " 7. CrossInTray         \n",
      " 8. Bohachevsky1        \n",
      " 9. Camel3              \n",
      "10. GoldsteinPrice      \n",
      "   ... and 13 more problems\n",
      "\n",
      "\n",
      "Found 15 nD, differentiable, unconstrained problems:\n",
      " 1. SumSq               \n",
      " 2. Schwefel            \n",
      " 3. Michalewicz         \n",
      " 4. Sphere              \n",
      " 5. StyblinskiTang      \n",
      " 6. Perm0               \n",
      " 7. Powell              \n",
      " 8. Rosenbrock          \n",
      " 9. Ackley              \n",
      "10. Trid                \n",
      "   ... and 5 more problems\n"
     ]
    }
   ],
   "source": [
    "# Get 2D problems\n",
    "problems = pygold.get_standard_problems([\"2D\", \"Unconstrained\"])\n",
    "print(f\"Found {len(problems)} 2D, unconstrained problems:\")\n",
    "for i, problem in enumerate(problems[:10], 1):  # Show first 10\n",
    "    print(f\"{i:2d}. {problem.__name__:20}\")\n",
    "\n",
    "if len(problems) > 10:\n",
    "    print(f\"   ... and {len(problems) - 10} more problems\\n\\n\")\n",
    "\n",
    "\n",
    "# Get nD, unconstrained problems\n",
    "problems = pygold.get_standard_problems([\"nD\", \"Differentiable\", \"Unconstrained\"])\n",
    "print(f\"Found {len(problems)} nD, differentiable, unconstrained problems:\")\n",
    "for i, problem in enumerate(problems[:10], 1):\n",
    "    print(f\"{i:2d}. {problem.__name__:20}\")\n",
    "if len(problems) > 10:\n",
    "    print(f\"   ... and {len(problems) - 10} more problems\")"
   ]
  },
  {
   "cell_type": "markdown",
   "id": "10edbc48",
   "metadata": {},
   "source": [
    "### FLORIS Problems\n",
    "\n",
    "In addition to the standard problems, pyGOLD offers wind farm optimization problems using FLORIS. These are available in the `pygold.problems.floris` module. Currently available are:\n",
    "- TurbineLayout: Control the (x,y) locations of turbines in a wind farm to maximize Annual Energy Production.\n",
    "- TurbineLayoutYaw: Control the (x,y) locations and the turbine offset angle from the wind.\n",
    "\n",
    "Stochastic versions of these problems are also available. These are made by adding noise to the sampling points of the wind condition PDF.\n",
    "\n",
    "For more on the FLORIS problems, see ``ex2_floris.ipynb``."
   ]
  },
  {
   "cell_type": "markdown",
   "id": "98153a4a",
   "metadata": {},
   "source": [
    "## Part 3: Example\n",
    "---\n",
    "\n",
    "Let's put it all together with an example:"
   ]
  },
  {
   "cell_type": "code",
   "execution_count": 3,
   "id": "ded99d34",
   "metadata": {},
   "outputs": [
    {
     "name": "stdout",
     "output_type": "stream",
     "text": [
      "Experiment complete.\n",
      "Results saved in: tutorial2_data/\n"
     ]
    }
   ],
   "source": [
    "# 1. Define algorithms\n",
    "class DualAnnealing(BaseOptimizer):\n",
    "    deterministic = False\n",
    "    n_points = 0\n",
    "    def optimize(self, func, bounds, x0=None, constraints=None, **kwargs):\n",
    "        result = dual_annealing(func, bounds, **kwargs)\n",
    "        return OptimizationResult(result.x, result.fun, algorithm=self.name)\n",
    "\n",
    "class BasinHopping(BaseOptimizer):\n",
    "    deterministic = False\n",
    "    n_points = 1\n",
    "    def optimize(self, func, bounds, x0=None, constraints=None, **kwargs):\n",
    "        result = basinhopping(func, x0, minimizer_kwargs={'bounds': bounds}, **kwargs)\n",
    "        return OptimizationResult(result.x, result.fun, algorithm=self.name)\n",
    "\n",
    "my_solvers = [DualAnnealing(), BasinHopping()]\n",
    "\n",
    "# 2. Select problems\n",
    "my_problems = pygold.get_standard_problems([\"2D\", \"Unconstrained\"])[:3]\n",
    "\n",
    "# 3. Run experiment with all parameters\n",
    "pygold.run_solvers(\n",
    "    solvers=my_solvers,                    # Algorithm instances\n",
    "    problems=my_problems,                  # Problem classes\n",
    "    test_dimensions=[2],                   # Test in 2D - note that since we're only using 2D problems, this is redundant\n",
    "    n_iters=5,                             # 5 independent runs\n",
    "    output_folder=\"tutorial2_data\",        # Results folder\n",
    "    verbose=False,                         # Show progress\n",
    "    track_energy=False                     # No energy tracking\n",
    ")\n",
    "\n",
    "print(\"Experiment complete.\\nResults saved in: tutorial2_data/\")"
   ]
  },
  {
   "cell_type": "markdown",
   "id": "76d39d1f",
   "metadata": {},
   "source": [
    "## Summary\n",
    "\n",
    "You now understand the parameters of run_solvers(), the problems available within pyGOLD, and how to access them.\n",
    "\n",
    "Next: **Tutorial 3** will show you how to use the postprocessing tools within pyGOLD to analyze and visualize the results from your experiments."
   ]
  }
 ],
 "metadata": {
  "kernelspec": {
   "display_name": "pyGOLD",
   "language": "python",
   "name": "python3"
  },
  "language_info": {
   "codemirror_mode": {
    "name": "ipython",
    "version": 3
   },
   "file_extension": ".py",
   "mimetype": "text/x-python",
   "name": "python",
   "nbconvert_exporter": "python",
   "pygments_lexer": "ipython3",
   "version": "3.13.5"
  }
 },
 "nbformat": 4,
 "nbformat_minor": 5
}
